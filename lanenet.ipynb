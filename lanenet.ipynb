{
 "cells": [
  {
   "cell_type": "code",
   "execution_count": 17,
   "metadata": {},
   "outputs": [],
   "source": [
    "import cv2\n",
    "import numpy as np\n",
    "import matplotlib.pyplot as plt\n",
    "%matplotlib inline"
   ]
  },
  {
   "cell_type": "code",
   "execution_count": 2,
   "metadata": {},
   "outputs": [
    {
     "name": "stdout",
     "output_type": "stream",
     "text": [
      "\u001b[0m\u001b[01;34mconfig\u001b[0m/            lanenet.ipynb      README.md\n",
      "_config.yml        \u001b[01;34mlanenet_model\u001b[0m/     requirements.txt\n",
      "\u001b[01;34mdata\u001b[0m/              LICENSE            \u001b[01;34msemantic_segmentation_zoo\u001b[0m/\n",
      "\u001b[01;34mdata_provider\u001b[0m/     \u001b[01;34moutput\u001b[0m/            test_lanenet.py\n",
      "\u001b[01;31mlanedetection.zip\u001b[0m  \u001b[01;34mpretrained_model\u001b[0m/  \u001b[01;34mtools\u001b[0m/\n"
     ]
    }
   ],
   "source": [
    "ls"
   ]
  },
  {
   "cell_type": "code",
   "execution_count": 23,
   "metadata": {},
   "outputs": [
    {
     "name": "stdout",
     "output_type": "stream",
     "text": [
      "(3084, 1080, 1920, 3)\n"
     ]
    }
   ],
   "source": [
    "import skvideo.io  \n",
    "videodata = skvideo.io.vread(\"data/sample.mp4\")  \n",
    "print(videodata.shape)"
   ]
  },
  {
   "cell_type": "code",
   "execution_count": null,
   "metadata": {},
   "outputs": [],
   "source": [
    "python tools/evaluate_lanenet_on_tusimple.py \n",
    "--image_dir ROOT_DIR/TUSIMPLE_DATASET/test_set/clips \n",
    "--weights_path ./model/tusimple_lanenet_vgg/tusimple_lanenet.ckpt \n",
    "--save_dir ROOT_DIR/TUSIMPLE_DATASET/test_set/test_output"
   ]
  }
 ],
 "metadata": {
  "kernelspec": {
   "display_name": "Python 3",
   "language": "python",
   "name": "python3"
  },
  "language_info": {
   "codemirror_mode": {
    "name": "ipython",
    "version": 3
   },
   "file_extension": ".py",
   "mimetype": "text/x-python",
   "name": "python",
   "nbconvert_exporter": "python",
   "pygments_lexer": "ipython3",
   "version": "3.5.6"
  }
 },
 "nbformat": 4,
 "nbformat_minor": 2
}
